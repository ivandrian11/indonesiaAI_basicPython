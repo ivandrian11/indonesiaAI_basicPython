{
 "cells": [
  {
   "cell_type": "markdown",
   "id": "52fdcc3f-5924-4d31-9d33-14caed41922b",
   "metadata": {},
   "source": [
    "# Final Project - Membuat Program untuk Mengirim Email"
   ]
  },
  {
   "cell_type": "code",
   "execution_count": null,
   "id": "9d43a3ea-2287-4e71-86ac-a6c68864f9de",
   "metadata": {},
   "outputs": [],
   "source": [
    "def get_num_of_trial(filename='file/percobaan.txt'):\n",
    "    with open(filename, mode='r') as trial_file:\n",
    "        return int(trial_file.read())"
   ]
  },
  {
   "cell_type": "markdown",
   "id": "11d4f64a-ec1d-4748-9e39-77a601bc92a3",
   "metadata": {},
   "source": [
    ">**Pembahasan:**<br>\n",
    "Method ini digunakan untuk mengambil nilai banyak percobaan yang telah dilakukan."
   ]
  },
  {
   "cell_type": "code",
   "execution_count": null,
   "id": "e30a6256-ad9a-430a-95c7-c61fd42285b6",
   "metadata": {},
   "outputs": [],
   "source": [
    "def update_num_of_trial(num, filename='file/percobaan.txt'):\n",
    "    with open(filename, mode='w') as trial_file:\n",
    "        trial_file.write(str(num))"
   ]
  },
  {
   "cell_type": "markdown",
   "id": "602ea6a2-6d87-4f9e-912d-4da6bae522fa",
   "metadata": {},
   "source": [
    ">**Pembahasan:**<br>\n",
    "Method ini digunakan untuk meng-update nilai banyak percobaan setelah mengirimkan email."
   ]
  },
  {
   "cell_type": "code",
   "execution_count": null,
   "id": "f4890583-8ae9-41df-b8a1-48374c35780a",
   "metadata": {},
   "outputs": [],
   "source": [
    "def get_contacts(filename):\n",
    "    names, emails = [], []\n",
    "    with open(filename, mode='r') as contacts_file:\n",
    "        for a_contact in contacts_file:\n",
    "            names.append(a_contact.split()[0])\n",
    "            emails.append(a_contact.split()[1])\n",
    "    return names, emails"
   ]
  },
  {
   "cell_type": "markdown",
   "id": "030e8a3c-0509-4ae9-8266-425ab4211988",
   "metadata": {},
   "source": [
    ">**Pembahasan:**<br>\n",
    "Method ini digunakan untuk mengambil nama dan email berdasarkan file data yang telah disiapkan, disimpan dalam bentuk list."
   ]
  },
  {
   "cell_type": "code",
   "execution_count": null,
   "id": "6abf03b2-a3b4-46aa-a3c9-1680411e7e99",
   "metadata": {},
   "outputs": [],
   "source": [
    "nama_penerima, email_penerima = get_contacts('file/email.txt')"
   ]
  },
  {
   "cell_type": "markdown",
   "id": "66418a94-0132-4682-bf1f-e9f381732de7",
   "metadata": {},
   "source": [
    "# Mengirimkan Email dengan Gmail\n",
    "\n",
    "## Percobaan Pertama - Pesan Statis\n",
    "Ada banyak cara mengirimkan email dengan menggunakan Python, salah satunya dengan memanfaatkan modul pihak ketiga yang dapat menghubungkan kita dengan SMTP server yaitu `smtplib`. Sekarang, kita akan mencoba mengirimkan email menggunakan layanan gmail menggunakan Python. Sebelum itu, mari kita definisikan variabel yang akan kita gunakan dalam pengiriman email seperti pengirim, penerima, subjek, isi pesan, dan email yang akan kita kirim. "
   ]
  },
  {
   "cell_type": "code",
   "execution_count": null,
   "id": "0d214a99-871e-40dd-9b7d-92168a968cfe",
   "metadata": {},
   "outputs": [],
   "source": [
    "# from helper import email_saya, password_saya\n",
    "email_saya = 'your_email@gmail.com'\n",
    "password_saya = 'your_password'\n",
    "\n",
    "jumlah_percobaan = get_num_of_trial()\n",
    "\n",
    "email_pengirim = email_saya\n",
    "isi_pesan = \"\"\"\\\n",
    "Kepada teman-temanku,\n",
    "\n",
    "Ini hanya pesan percobaan untuk final project.\n",
    "Terima kasih atas perhatiannya!\n",
    "Tapi jangan lupa follow ig gw yaa di https://www.instagram.com/ivandrian11/\n",
    "\n",
    "Ivan Andrianto\n",
    "\"\"\"\n",
    "\n",
    "subjek = f\"Test Project Presentasi ke-{jumlah_percobaan}\"\n",
    "jumlah_percobaan += 1\n",
    "update_num_of_trial(jumlah_percobaan)\n",
    "\n",
    "teks_email = f\"\"\"\\\n",
    "From: {email_pengirim}\n",
    "To: {', '.join(email_penerima)}\n",
    "Subject: {subjek}\n",
    "\n",
    "{isi_pesan}\\\n",
    "\"\"\""
   ]
  },
  {
   "cell_type": "markdown",
   "id": "824b04ef-032c-4520-9130-443bc0cdfd1d",
   "metadata": {},
   "source": [
    "Sebelum mengirimkan email, tentu kita harus membuat koneksi terlebih dahulu dan koneksi yang dibuat pun harus yang *secure* (aman) yaa. Oiya terdapat beberapa catatan bahwa Gmail memberlakukan beberapa batasan pada koneksi SMTP yaitu autentikasinya. Autentifikasi merupakan proses validasi terhadap identitas pengguna ketika akan mengakses sebuah sistem. Karena kita menggunakan gmail, kita harus memberi tahu Google untuk mengizinkan kita terhubung melalui SMTP, karena Google menganggap metode yang kita gunakan ini kurang aman. Metode ini juga tidak menggunakan token seperti protokol OAuth, yang bisa dibatalkan kapan saja seperti pengimplementasian fitur IBM Watson.\n",
    "\n",
    "Diperlukan langkah-langkah tambahan berikut ini supaya kita dapat mengirimkan email.\n",
    "- Pertama, kita perlu mengaktifkan *allow less secure apps* pada laman [ini](https://support.google.com/accounts/answer/6010255?authuser=2) atau bisa langsung juga [kesini](https://myaccount.google.com/u/2/lesssecureapps?pli=1&rapt=AEjHL4NpnHWYqVFFlvaen-Fb3qmILum1lZhrGVstaHs1AfDa5mPUSiE3Jna_tUa6XZaBFEw61iHYbEOrLuEs6C2-tl9iRNLZRw).\n",
    "- Jika kita mengaktifkan *2-step verification*, maka kita perlu membuat password khusus aplikasi yang petunjuknya dapat dilihat [disini](https://support.google.com/accounts/answer/185833)."
   ]
  },
  {
   "cell_type": "code",
   "execution_count": null,
   "id": "31965473-3210-45d6-b782-efd2d2f59269",
   "metadata": {},
   "outputs": [],
   "source": [
    "import smtplib\n",
    "\n",
    "try:\n",
    "    server = smtplib.SMTP_SSL('smtp.gmail.com', 465) # buat terkoneksi dengan gmail\n",
    "    server.login(email_saya, password_saya) # login\n",
    "    server.sendmail(email_pengirim, email_penerima, teks_email) # kirim email\n",
    "    print('Email berhasil terkirim!')\n",
    "except:\n",
    "    print('Email gagal terkirim!')"
   ]
  },
  {
   "cell_type": "markdown",
   "id": "0e1bf302-ea47-4887-a484-cfaf8cc32aee",
   "metadata": {},
   "source": [
    ">**Pembahasan:**<br>\n",
    "Dilakukan pengiriman email pesan statis kepada banyak email sekaligus berdasar data pengirim, penerima dan isinya yang telah disiapkan sebelumnya. Pada method `.sendmail()` dari objek `server`, telah diteruskan argumen berupa email pengirim, penerima, dan teks yang akan dikirim. Jika dilihat teks yang dikirim juga terisi email pengirim dan penerima. Sehingga untuk bagian tersebut di teks email dapat kita tidak isi, tetapi akan membuat pengiriman emailnya tidak pada bagian `to` melainkan menjadi `bcc`, atau jika kita tetap menaruh keduanya tetapi terdapat perbedaan isi email maka email yang ditempatkan pada `to` di teks email akan dikirim sebagai `to` dan email yang diteruskan sebagai argumen `.sendmail()` akan terkirim sebagai `bcc`."
   ]
  },
  {
   "cell_type": "markdown",
   "id": "abbd0837-1b80-4f6a-8b82-9d1ff93162f1",
   "metadata": {},
   "source": [
    "**Referensinya dapat dilihat [disini](https://stackabuse.com/how-to-send-emails-with-gmail-using-python/).**\n",
    "\n",
    "**Catatan:** <br>\n",
    "Berdasarkan kesimpulan dari referensi, dikatakan bahwa kode tersebut seharusnya berfungsi untuk hampir semua penyedia email lainnya yang mendukung akses SMTP selama alamat host dan port server yang dmasukkan benar. Kemudian Gmail juga memberikan  batasan pada akun gratis yang mengirim email dengan SMTP sebanyak 500 email per harinya dan dibatasi hingga sekitaran 20 email per detik."
   ]
  },
  {
   "cell_type": "markdown",
   "id": "4b7af278-7174-477e-9302-e06dc9a580ce",
   "metadata": {},
   "source": [
    "## Percobaan Kedua - Pesan Dinamis"
   ]
  },
  {
   "cell_type": "code",
   "execution_count": null,
   "id": "e9d82be0-a16d-4eec-8bc6-c4bd4ef1d3d7",
   "metadata": {},
   "outputs": [],
   "source": [
    "def read_template_email(filename):\n",
    "    with open(filename, 'r') as template_file:\n",
    "        template_file_content = template_file.read()\n",
    "    return template_file_content\n",
    "\n",
    "template_email = read_template_email('file/pesan.txt')"
   ]
  },
  {
   "cell_type": "markdown",
   "id": "2164e4f4-f894-4807-b358-bb8ebab68173",
   "metadata": {},
   "source": [
    ">**Pembahasan:**<br>\n",
    "Method ini digunakan untuk mengambil isi teks dari file yang akan dibaca."
   ]
  },
  {
   "cell_type": "code",
   "execution_count": null,
   "id": "0295afd8-13c3-4193-911d-a4b2d50ce9fe",
   "metadata": {},
   "outputs": [],
   "source": [
    "from email.mime.multipart import MIMEMultipart # untuk buat objek pesan\n",
    "from email.mime.text import MIMEText # untuk melampirkan isi pesan"
   ]
  },
  {
   "cell_type": "code",
   "execution_count": null,
   "id": "e5583616-1bc4-431f-81ff-4244f788e975",
   "metadata": {},
   "outputs": [],
   "source": [
    "# html = \"\"\"\\\n",
    "# <html>\n",
    "#   <body>\n",
    "#     <p>Haloo,<br>\n",
    "#        Apakabar?<br>\n",
    "#        <a href=\"https://www.instagram.com/ivandrian11/\">Follow IG aku yuk!</a> \n",
    "#     </p>\n",
    "#   </body>\n",
    "# </html>\n",
    "# \"\"\""
   ]
  },
  {
   "cell_type": "markdown",
   "id": "b314356b-0720-40bc-b28e-2d98add4b195",
   "metadata": {},
   "source": [
    ">**Pembahasan:**<br>\n",
    "Di atas dilakukan inisialisasi untuk data html jika ingin dicoba untuk dikirim pada kodingan di bawah."
   ]
  },
  {
   "cell_type": "code",
   "execution_count": null,
   "id": "e7bad5db-4cb8-4bca-84be-df4d3772cf0e",
   "metadata": {},
   "outputs": [],
   "source": [
    "for name, email in zip(nama_penerima, email_penerima):\n",
    "    # buat objek pesan\n",
    "    msg = MIMEMultipart()\n",
    "    \n",
    "    # mengganti nama orang lebih spesifik\n",
    "    message = template_email.replace('nama_orang', name.title())\n",
    "\n",
    "    # mengatur parameter pesannya\n",
    "    msg['From'] = email_pengirim\n",
    "    msg['To'] = email\n",
    "    msg['Subject']= f\"Tes Project ke-{name.title()}\"\n",
    "\n",
    "    # tambah isi pesan\n",
    "    msg.attach(MIMEText(message, 'plain')) # kirim teks biasa\n",
    "    # msg.attach(MIMEText(html, 'html')) # kirim html\n",
    "\n",
    "    # kirim pesan\n",
    "    try:\n",
    "        server.send_message(msg)\n",
    "        print(f\"Berhasil terkirim ke-{name.title()}\")\n",
    "    except:\n",
    "        print(f\"Gagal terkirim ke-{name.title()}\")\n",
    "    \n",
    "    del msg"
   ]
  },
  {
   "cell_type": "markdown",
   "id": "99a2ef3f-ba61-40b3-abfd-9a5adba29ae7",
   "metadata": {},
   "source": [
    ">**Pembahasan:**<br>\n",
    "Dilakukan pengiriman email pesan dinamis yang menyesuaikan nama orang yang dituju sehingga pengiriman email dilakukan satu per satu menggunakan perulangan dan memanfaatkan method `zip()` untuk memasangkan dua list secara bersamaan menjadi bentuk tuple."
   ]
  },
  {
   "cell_type": "markdown",
   "id": "c3426c82-5f68-4208-8408-1cea6d268059",
   "metadata": {},
   "source": [
    "- **Referensi kodingan di atas dapat dilihat [disini](https://www.freecodecamp.org/news/send-emails-using-code-4fcea9df63f/).**\n",
    "- **Referensi kodingan untuk melampirkan file sesuai dengan kodingan di atas dapat dilihat [disini](https://realpython.com/python-send-email/).**\n",
    "- **Dokumentasi mengenai MIMEMultipart dapat dilihat [disini](https://docs.python.org/3/library/email.mime.html#email.mime.multipart.MIMEMultipart).**\n",
    "- **Dokumentasi mengenai smtplib dapat dilihat [disini](https://docs.python.org/3/library/smtplib.html).**"
   ]
  },
  {
   "cell_type": "markdown",
   "id": "9ff3b55d-09af-4623-a033-955177efc7e5",
   "metadata": {},
   "source": [
    "## Percobaan Ketiga - Melampirkan File\n",
    "Sebenarnya, kita bisa-bisa saja melampirkan file dengan kodingan percobaan kedua, tetapi saya lebih prefer menggunakan referensi lain yang konsepnya mirip dengan percobaan kedua."
   ]
  },
  {
   "cell_type": "code",
   "execution_count": null,
   "id": "f0a89068-7315-46c8-b046-ffd3d33080e1",
   "metadata": {},
   "outputs": [],
   "source": [
    "import mimetypes # untuk mengecek main dan subtype dari suatu file\n",
    "from email.message import EmailMessage # objek pesan email"
   ]
  },
  {
   "cell_type": "code",
   "execution_count": null,
   "id": "b16b3863-b3f5-4b45-b019-fabb3f923502",
   "metadata": {},
   "outputs": [],
   "source": [
    "def attach_file(filename):\n",
    "    with open(filename, 'rb') as file:\n",
    "        global msg # global-in variabel msg\n",
    "        mime_type, _ = mimetypes.guess_type(filename)\n",
    "        mime_type, mime_subtype = mime_type.split('/')\n",
    "        msg.add_attachment(\n",
    "            file.read(),\n",
    "            maintype=mime_type,\n",
    "            subtype=mime_subtype,\n",
    "            filename=filename\n",
    "        )"
   ]
  },
  {
   "cell_type": "markdown",
   "id": "128a4136-2a89-4728-aea6-1f6c2beca121",
   "metadata": {},
   "source": [
    ">**Pembahasan:**<br>\n",
    "Method ini digunakan untuk melampirkan file pada email yang akan dikirim."
   ]
  },
  {
   "cell_type": "code",
   "execution_count": null,
   "id": "1ea3144f-a44e-432e-aa08-fba9a08221d3",
   "metadata": {},
   "outputs": [],
   "source": [
    "for name, email in zip(nama_penerima, email_penerima):\n",
    "    # buat objek pesan\n",
    "    msg = EmailMessage()\n",
    "    \n",
    "    # mengganti nama orang lebih spesifik\n",
    "    message = template_email.replace('nama_orang', name.title())\n",
    "\n",
    "    # mengatur parameter pesannya\n",
    "    msg['From'] = email_pengirim\n",
    "    msg['To'] = email\n",
    "    msg['Subject']= f\"Tes Project ke-{name.title()}\"\n",
    "\n",
    "    # tambah isi pesan\n",
    "    msg.set_content(message) # kirim bentuk teks biasa\n",
    "    \n",
    "    # lampirkan file\n",
    "    if name == \"richo\": # kalo richo maka kita kirim gambar\n",
    "        attach_file('file/end_game.jpg')\n",
    "    elif name == \"naim\": # kalo naim maka kita kirim pdf\n",
    "        attach_file('file/tugas_suara.pdf')\n",
    "\n",
    "    # kirim pesan\n",
    "    try:\n",
    "        server.send_message(msg)\n",
    "        print(f\"Berhasil terkirim ke-{name.title()}\")\n",
    "    except:\n",
    "        print(f\"Gagal terkirim ke-{name.title()}\")\n",
    "    \n",
    "    del msg\n",
    "\n",
    "server.close() # tutup server karena sudah ga dipake lagi untuk membebaskan memori"
   ]
  },
  {
   "cell_type": "markdown",
   "id": "70a56c17-aefd-4be7-a643-9252159d6eef",
   "metadata": {},
   "source": [
    "- **Referensi kodingan dapat dilihat [disini](https://levelup.gitconnected.com/send-email-using-python-30fc1f203505).**\n",
    "- **Dokumentasi mengenai EmailMessage dapat dilihat [disini](https://docs.python.org/3/library/email.message.html).**"
   ]
  },
  {
   "cell_type": "markdown",
   "id": "4cc9927c-234d-4d4a-91fd-7430638eafa6",
   "metadata": {},
   "source": [
    "## Percobaan Keempat - Menggunakan Modul \"boto\"\n",
    "Percobaan ini tidak jadi saya lakukan karena untuk mengimplementasikannya, kita memerlukan subscription ke layanan AWS itu sendiri. Karena [*boto*](https://pypi.org/project/boto/) merupakan modul yang terintegrasi dengan layanan AWS.\n",
    "\n",
    "**Referensi dapat dilihat [disini](https://stackabuse.com/how-to-send-an-email-with-boto-and-ses/).**"
   ]
  }
 ],
 "metadata": {
  "kernelspec": {
   "display_name": "Python 3",
   "language": "python",
   "name": "python3"
  },
  "language_info": {
   "codemirror_mode": {
    "name": "ipython",
    "version": 3
   },
   "file_extension": ".py",
   "mimetype": "text/x-python",
   "name": "python",
   "nbconvert_exporter": "python",
   "pygments_lexer": "ipython3",
   "version": "3.8.8"
  }
 },
 "nbformat": 4,
 "nbformat_minor": 5
}
